{
 "cells": [
  {
   "cell_type": "code",
   "execution_count": null,
   "id": "68730b1a",
   "metadata": {},
   "outputs": [],
   "source": [
    "\n",
    "def yearMean(df_name):\n",
    "    Y2019=df_name.loc['2019-01-01':'2019-12-31']\n",
    "    monthGroup_2019=Y2019.groupby(by='MONTH')\n",
    "    mean_2019=monthGroup_2019.mean()\n",
    "    \n",
    "    Y2020=teen.loc['2020-01-01':'2020-12-31']\n",
    "    monthGroup_2020=Y2020.groupby(by='MONTH')\n",
    "    mean_2020=monthGroup_2020.mean()\n",
    "    \n",
    "    Y2021=teen.loc['2021-01-01':'2021-06-30']\n",
    "    monthGroup_2021=Y2021.groupby(by='MONTH')\n",
    "    mean_2021=monthGroup_2021.mean()\n",
    "   "
   ]
  },
  {
   "cell_type": "code",
   "execution_count": null,
   "id": "b68bd1cf",
   "metadata": {},
   "outputs": [],
   "source": [
    "def addRows(df_name):\n",
    "    df_name=pd.concat([mean_2019, mean_2020, mean_2021], ignore_index=True)"
   ]
  },
  {
   "cell_type": "code",
   "execution_count": null,
   "id": "51ba1ea8",
   "metadata": {},
   "outputs": [],
   "source": [
    "# NaN값 없애기\n",
    "dropNaN(forty)\n",
    "\n",
    "# 날짜열 타입 변환하기\n",
    "changeDateType(forty)\n",
    "\n",
    "# MONTH열 생성 후 인덱스로 지정하기\n",
    "monthColumn(forty)\n",
    "\n",
    "# 각 연도별, 월별 검색 건수 평균 구하기\n",
    "yearMean(forty)\n",
    "\n",
    "# 검색 건수 평균 전체 연도 합치기\n",
    "wavve_forty=pd.concat([mean_2019, mean_2020, mean_2021], ignore_index=True)\n",
    "\n",
    "# 데이터 확인\n",
    "wavve_forty"
   ]
  },
  {
   "cell_type": "code",
   "execution_count": null,
   "id": "1dfd1582",
   "metadata": {},
   "outputs": [],
   "source": [
    "import matplotlib.pyplot as plt"
   ]
  },
  {
   "cell_type": "code",
   "execution_count": null,
   "id": "b0c5d5d4",
   "metadata": {},
   "outputs": [],
   "source": [
    "# matplotlib 한글 font 설정\n",
    "from matplotlib import font_manager as fm, rc\n",
    "\n",
    "# 한글폰트 설정\n",
    "font_path='../font/malgun.ttf'\n",
    "font_name=fm.FontProperties(fname=font_path).get_name()\n",
    "rc('font', family=font_name)"
   ]
  },
  {
   "cell_type": "code",
   "execution_count": null,
   "id": "c26d612b",
   "metadata": {},
   "outputs": [],
   "source": [
    "# 연령별 분류 중 20세 미만 웨이브 검색 수 월별 평균 그래프 \n",
    "wavve_teen.plot()"
   ]
  },
  {
   "cell_type": "code",
   "execution_count": 1,
   "id": "73e3ee5f",
   "metadata": {},
   "outputs": [
    {
     "ename": "NameError",
     "evalue": "name 'plt' is not defined",
     "output_type": "error",
     "traceback": [
      "\u001b[1;31m---------------------------------------------------------------------------\u001b[0m",
      "\u001b[1;31mNameError\u001b[0m                                 Traceback (most recent call last)",
      "Input \u001b[1;32mIn [1]\u001b[0m, in \u001b[0;36m<cell line: 2>\u001b[1;34m()\u001b[0m\n\u001b[0;32m      1\u001b[0m \u001b[38;5;66;03m# 여러개 그래프 하나에 넣기 => 행/열/인덱스\u001b[39;00m\n\u001b[1;32m----> 2\u001b[0m fig\u001b[38;5;241m=\u001b[39m\u001b[43mplt\u001b[49m\u001b[38;5;241m.\u001b[39mfigure()\n\u001b[0;32m      4\u001b[0m ax1\u001b[38;5;241m=\u001b[39mfig\u001b[38;5;241m.\u001b[39madd_subplot(\u001b[38;5;241m221\u001b[39m)\n\u001b[0;32m      5\u001b[0m ax1\u001b[38;5;241m.\u001b[39mset_title(\u001b[38;5;124m'\u001b[39m\u001b[38;5;124mline\u001b[39m\u001b[38;5;124m'\u001b[39m)\n",
      "\u001b[1;31mNameError\u001b[0m: name 'plt' is not defined"
     ]
    }
   ],
   "source": [
    "\n",
    "\n",
    "# 여러개 그래프 하나에 넣기 => 행/열/인덱스\n",
    "fig=plt.figure()\n",
    "\n",
    "ax1=fig.add_subplot(221)\n",
    "ax1.set_title('line')\n",
    "ax1.plot([1,2,3,4])\n",
    "\n",
    "ax2=fig.add_subplot(222)\n",
    "ax2.set_title('bar')\n",
    "ax2.bar([1,2,3,4], [11,22,33,44], color = 'y')\n",
    "\n",
    "ax3=fig.add_subplot(223)\n",
    "ax3.set_title('line')\n",
    "ax3.plot([1,2,3,4])\n",
    "\n",
    "# 여러개 plot 간격 자동 조절\n",
    "fig.tight_layout()\n",
    "\n",
    "# 화면 출력\n",
    "plt.show()"
   ]
  },
  {
   "cell_type": "code",
   "execution_count": null,
   "id": "0810ef43",
   "metadata": {},
   "outputs": [],
   "source": []
  }
 ],
 "metadata": {
  "kernelspec": {
   "display_name": "Python 3 (ipykernel)",
   "language": "python",
   "name": "python3"
  },
  "language_info": {
   "codemirror_mode": {
    "name": "ipython",
    "version": 3
   },
   "file_extension": ".py",
   "mimetype": "text/x-python",
   "name": "python",
   "nbconvert_exporter": "python",
   "pygments_lexer": "ipython3",
   "version": "3.9.12"
  }
 },
 "nbformat": 4,
 "nbformat_minor": 5
}
