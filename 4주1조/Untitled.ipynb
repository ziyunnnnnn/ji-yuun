{
 "cells": [
  {
   "cell_type": "markdown",
   "id": "a9f8f577",
   "metadata": {},
   "source": [
    "## 팀 이름  \n",
    "    : 그만올라조\n",
    "\n",
    "## 팀 주제  \n",
    "    : 최근 3년간 소비자물가지수 동향 파악 및 향후 전망 분석\n",
    "       - 코로나, 전쟁, 금리변동과의 상관관계를 중심으로 -\n",
    "\n",
    "## 팀원별 개인주제\n",
    "    - 김지윤: 소비자물가지수 총지수 동향 및 해외 동향\n",
    "    - 방영찬: 소비자물가지수 지출목적별 동향_(1)\n",
    "    - 이재상: 소비자물가지수 품목성질별 동향_(1)\n",
    "    - 이재훈: 소비자물가지수 지출목적별 동향_(2) \n",
    "    - 정한수: 소비자물가지수 품목성질별 동향_(2)\n"
   ]
  },
  {
   "cell_type": "code",
   "execution_count": null,
   "id": "b1136e00",
   "metadata": {},
   "outputs": [],
   "source": []
  }
 ],
 "metadata": {
  "kernelspec": {
   "display_name": "Python 3 (ipykernel)",
   "language": "python",
   "name": "python3"
  },
  "language_info": {
   "codemirror_mode": {
    "name": "ipython",
    "version": 3
   },
   "file_extension": ".py",
   "mimetype": "text/x-python",
   "name": "python",
   "nbconvert_exporter": "python",
   "pygments_lexer": "ipython3",
   "version": "3.9.12"
  }
 },
 "nbformat": 4,
 "nbformat_minor": 5
}
