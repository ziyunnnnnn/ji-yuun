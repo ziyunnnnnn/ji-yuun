{
 "cells": [
  {
   "cell_type": "code",
   "execution_count": null,
   "id": "11477fd6",
   "metadata": {},
   "outputs": [],
   "source": [
    "url_list=[]\n",
    "article_list=[]\n",
    "for i in range(1,1000):\n",
    "    all_url=url + str(i)\n",
    "    url_list.append(all_url)\n",
    "    div=soup.find_all('div', {'class':'inner_list'})\n",
    "    for i in div:\n",
    "        article_list.append(i['href'])\n",
    "print(article_list)"
   ]
  }
 ],
 "metadata": {
  "kernelspec": {
   "display_name": "Python 3 (ipykernel)",
   "language": "python",
   "name": "python3"
  },
  "language_info": {
   "codemirror_mode": {
    "name": "ipython",
    "version": 3
   },
   "file_extension": ".py",
   "mimetype": "text/x-python",
   "name": "python",
   "nbconvert_exporter": "python",
   "pygments_lexer": "ipython3",
   "version": "3.9.12"
  }
 },
 "nbformat": 4,
 "nbformat_minor": 5
}
